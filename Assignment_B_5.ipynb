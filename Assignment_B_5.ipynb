{
 "cells": [
  {
   "cell_type": "code",
   "execution_count": null,
   "id": "terminal-nowhere",
   "metadata": {},
   "outputs": [],
   "source": [
    "1. What does an empty dictionary's code look like?"
   ]
  },
  {
   "cell_type": "code",
   "execution_count": null,
   "id": "handy-language",
   "metadata": {},
   "outputs": [],
   "source": [
    "()"
   ]
  },
  {
   "cell_type": "code",
   "execution_count": null,
   "id": "directed-partnership",
   "metadata": {},
   "outputs": [],
   "source": [
    "2. What is the value of a dictionary value with the key 'foo' and the value 42?"
   ]
  },
  {
   "cell_type": "code",
   "execution_count": 1,
   "id": "silver-hampshire",
   "metadata": {},
   "outputs": [
    {
     "data": {
      "text/plain": [
       "42"
      ]
     },
     "execution_count": 1,
     "metadata": {},
     "output_type": "execute_result"
    }
   ],
   "source": [
    "asd = {'foo': 42}\n",
    "asd['foo']"
   ]
  },
  {
   "cell_type": "code",
   "execution_count": null,
   "id": "veterinary-leather",
   "metadata": {},
   "outputs": [],
   "source": [
    "3. What is the most significant distinction between a dictionary and a list?"
   ]
  },
  {
   "cell_type": "code",
   "execution_count": null,
   "id": "revolutionary-hampshire",
   "metadata": {},
   "outputs": [],
   "source": [
    "dictionary is type of data storage in which data items are stored in key value pair, same keys can be stored but not same value, other wisit will remove one and stops duplicacy.\n",
    "dicionary has read as well as write option, to acomplish it, has many functions like clear, copy, fromkeys, get, items, keys, pop, popitem, setdefault, update, values.\n",
    "List is type of data storage in which data items are stored in sequesntial manner with comma separated and whole data is inclosed by big bracket,\n",
    "list data type has read as well as write capability, for this, it has many functions like append, clear, copy, count, extrend, index, insert, pop, remove, reverse, sort."
   ]
  },
  {
   "cell_type": "code",
   "execution_count": null,
   "id": "casual-importance",
   "metadata": {},
   "outputs": [],
   "source": [
    "4. What happens if you try to access spam['foo'] if spam is {'bar': 100}?"
   ]
  },
  {
   "cell_type": "code",
   "execution_count": null,
   "id": "north-richards",
   "metadata": {},
   "outputs": [],
   "source": [
    "we'll get 100 as a value."
   ]
  },
  {
   "cell_type": "code",
   "execution_count": null,
   "id": "ignored-manor",
   "metadata": {},
   "outputs": [],
   "source": [
    "5. If a dictionary is stored in spam, what is the difference between the expressions 'cat' in spam and 'cat' in spam.keys()?"
   ]
  },
  {
   "cell_type": "code",
   "execution_count": null,
   "id": "fourth-benefit",
   "metadata": {},
   "outputs": [],
   "source": [
    "'cat' is the key which is output on call of spam.keys() for the spam variable."
   ]
  },
  {
   "cell_type": "code",
   "execution_count": null,
   "id": "wrong-cartridge",
   "metadata": {},
   "outputs": [],
   "source": [
    "6. If a dictionary is stored in spam, what is the difference between the expressions 'cat' in spam and 'cat' in spam.values()?"
   ]
  },
  {
   "cell_type": "code",
   "execution_count": null,
   "id": "simple-preservation",
   "metadata": {},
   "outputs": [],
   "source": [
    "'cat' is the key but on call spam.values() the value of cat key will be print if single key value is stored in spam."
   ]
  },
  {
   "cell_type": "code",
   "execution_count": null,
   "id": "canadian-intention",
   "metadata": {},
   "outputs": [],
   "source": [
    "7. What is a shortcut for the following code?\n",
    "if 'color' not in spam:\n",
    "    spam['color'] = 'black'"
   ]
  },
  {
   "cell_type": "code",
   "execution_count": null,
   "id": "forbidden-applicant",
   "metadata": {},
   "outputs": [],
   "source": [
    "spam['color'] = 'black' if spam['color'] not in spam else 'white'"
   ]
  },
  {
   "cell_type": "code",
   "execution_count": null,
   "id": "disciplinary-upset",
   "metadata": {},
   "outputs": [],
   "source": [
    "8. How do you \"pretty print\" dictionary values using which module and function?"
   ]
  },
  {
   "cell_type": "code",
   "execution_count": null,
   "id": "cardiac-kenya",
   "metadata": {},
   "outputs": [],
   "source": [
    "spam = {'one':'pretty print'}\n",
    "print(spam['one'])"
   ]
  }
 ],
 "metadata": {
  "kernelspec": {
   "display_name": "Python 3",
   "language": "python",
   "name": "python3"
  },
  "language_info": {
   "codemirror_mode": {
    "name": "ipython",
    "version": 3
   },
   "file_extension": ".py",
   "mimetype": "text/x-python",
   "name": "python",
   "nbconvert_exporter": "python",
   "pygments_lexer": "ipython3",
   "version": "3.7.1"
  }
 },
 "nbformat": 4,
 "nbformat_minor": 5
}

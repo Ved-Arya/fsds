{
 "cells": [
  {
   "cell_type": "code",
   "execution_count": null,
   "id": "solved-authorization",
   "metadata": {},
   "outputs": [],
   "source": [
    "Q 1. What are the Boolean data type's two values? How do you go about writing them?"
   ]
  },
  {
   "cell_type": "code",
   "execution_count": null,
   "id": "effective-cliff",
   "metadata": {},
   "outputs": [],
   "source": [
    "There is two boolean value -> True and False. These can be return type or can be declaration.\n",
    "e.g.\n",
    "a = true\n",
    "b = false"
   ]
  },
  {
   "cell_type": "code",
   "execution_count": null,
   "id": "ecological-hungary",
   "metadata": {},
   "outputs": [],
   "source": [
    "Q 2. What are the three different types of Boolean operators?"
   ]
  },
  {
   "cell_type": "code",
   "execution_count": null,
   "id": "excessive-thickness",
   "metadata": {},
   "outputs": [],
   "source": [
    "AND\n",
    "OR\n",
    "NOT"
   ]
  },
  {
   "cell_type": "code",
   "execution_count": null,
   "id": "unique-spirituality",
   "metadata": {},
   "outputs": [],
   "source": [
    "Q 3. Make a list of each Boolean operator's truth tables (i.e. every possible combination of Boolean values for the operator and what it evaluate )."
   ]
  },
  {
   "cell_type": "code",
   "execution_count": null,
   "id": "green-perth",
   "metadata": {},
   "outputs": [],
   "source": [
    "A    B    AND    OR    NOT(!A)\n",
    "0    0     0      0     1\n",
    "0    1     0      1     1\n",
    "1    0     0      1     0\n",
    "1    1     1      1     0"
   ]
  },
  {
   "cell_type": "code",
   "execution_count": null,
   "id": "marine-heather",
   "metadata": {},
   "outputs": [],
   "source": [
    "Q 4. What are the values of the following expressions?\n",
    "(5 > 4) and (3 == 5)\n",
    "not (5 > 4)\n",
    "(5 > 4) or (3 == 5)\n",
    "not ((5 > 4) or (3 == 5))\n",
    "(True and True) and (True == False)\n",
    "(not False) or (not True)"
   ]
  },
  {
   "cell_type": "code",
   "execution_count": null,
   "id": "alert-moment",
   "metadata": {},
   "outputs": [],
   "source": [
    "(5 > 4) and (3 == 5)  => false\n",
    "not (5 > 4)  => false\n",
    "(5 > 4) or (3 == 5)  => true\n",
    "not ((5 > 4) or (3 == 5))  => false\n",
    "(True and True) and (True == False)  => false\n",
    "(not False) or (not True)  => true"
   ]
  },
  {
   "cell_type": "code",
   "execution_count": null,
   "id": "historic-directory",
   "metadata": {},
   "outputs": [],
   "source": [
    "Q 5. What are the six different types of reference operators?"
   ]
  },
  {
   "cell_type": "code",
   "execution_count": null,
   "id": "african-residence",
   "metadata": {},
   "outputs": [],
   "source": [
    "colon (:)\n",
    "scope resolution (::)\n",
    "assignment (=)\n",
    "arrow(->)\n",
    "    (=>)\n",
    "DOt(.)\n",
    "Mpresend(&)"
   ]
  },
  {
   "cell_type": "code",
   "execution_count": null,
   "id": "complimentary-examination",
   "metadata": {},
   "outputs": [],
   "source": [
    "Q 6. How do you tell the difference between the equal to and assignment operators?"
   ]
  },
  {
   "cell_type": "code",
   "execution_count": null,
   "id": "minus-registrar",
   "metadata": {},
   "outputs": [],
   "source": [
    "The equal to (==) operator is used for comparision statement, and assignment operator(=) is used to assign value."
   ]
  },
  {
   "cell_type": "code",
   "execution_count": null,
   "id": "colonial-masters",
   "metadata": {},
   "outputs": [],
   "source": [
    "Q 7. Describe a condition and when you would use one."
   ]
  },
  {
   "cell_type": "code",
   "execution_count": null,
   "id": "incoming-flashing",
   "metadata": {},
   "outputs": [],
   "source": [
    "if(a==5){} #equal to operator\n",
    "ss = 10 #assignment operator"
   ]
  },
  {
   "cell_type": "code",
   "execution_count": null,
   "id": "addressed-mineral",
   "metadata": {},
   "outputs": [],
   "source": [
    "Q 8. Recognize the following three blocks in this code:\n",
    "spam = 0\n",
    "if spam == 10:\n",
    "    print('eggs')\n",
    "    if spam > 5:\n",
    "        print('bacon')\n",
    "    else:\n",
    "        print('ham')\n",
    "    print('spam')\n",
    "print('spam')"
   ]
  },
  {
   "cell_type": "code",
   "execution_count": null,
   "id": "decreased-melbourne",
   "metadata": {},
   "outputs": [],
   "source": [
    "control flow is skiped from second line of code because of failed comparision of spam variable to 10 value, so it reached to last line then prints spam."
   ]
  },
  {
   "cell_type": "code",
   "execution_count": null,
   "id": "entire-berlin",
   "metadata": {},
   "outputs": [],
   "source": [
    "Q 9. Create a programme that prints. If 1 is stored in spam, prints Hello; if 2 is stored in spam, prints Howdy; and if 3 is stored in spam, prints Salutations! if there's something else in spam."
   ]
  },
  {
   "cell_type": "code",
   "execution_count": 2,
   "id": "going-spending",
   "metadata": {},
   "outputs": [
    {
     "name": "stdout",
     "output_type": "stream",
     "text": [
      "Somthing else\n"
     ]
    }
   ],
   "source": [
    "spam = 10\n",
    "if(spam == 1):\n",
    "    print('Hello')\n",
    "if(spam ==2):\n",
    "    print(\"Howdy\")\n",
    "if(spam == 3):\n",
    "    print(\"Salutation!\")\n",
    "else:\n",
    "    print(\"Somthing else\")"
   ]
  },
  {
   "cell_type": "code",
   "execution_count": null,
   "id": "musical-civilian",
   "metadata": {},
   "outputs": [],
   "source": [
    "Q 10.If your programme is stuck in an endless loop, what keys can you press?"
   ]
  },
  {
   "cell_type": "code",
   "execution_count": null,
   "id": "weekly-iceland",
   "metadata": {},
   "outputs": [],
   "source": [
    "i'll press Alt+f4, because esc or Ctrl+c does not work or i'll write event(is_pressed()) for break on specific button."
   ]
  },
  {
   "cell_type": "code",
   "execution_count": null,
   "id": "quarterly-necklace",
   "metadata": {},
   "outputs": [],
   "source": [
    "Q 11. How can you tell the difference between break and continue?"
   ]
  },
  {
   "cell_type": "code",
   "execution_count": null,
   "id": "approved-competition",
   "metadata": {},
   "outputs": [],
   "source": [
    "The break stop the loop on that point where break written, but continue skips only that iteration where continue written."
   ]
  },
  {
   "cell_type": "code",
   "execution_count": null,
   "id": "dental-western",
   "metadata": {},
   "outputs": [],
   "source": [
    "Q 12. In a for loop, what is the difference between range(10), range(0, 10), and range(0, 10, 1)?"
   ]
  },
  {
   "cell_type": "code",
   "execution_count": null,
   "id": "healthy-phrase",
   "metadata": {},
   "outputs": [],
   "source": [
    "The range has total three parameter:- start, stop and stepping.\n",
    "    start is 0 by default,\n",
    "    stop is required for last point\n",
    "    stepping is 1 by default\n",
    "So no defference between range(10), range(0, 10), and range(0, 10, 1) but only deffrent style of writing."
   ]
  },
  {
   "cell_type": "code",
   "execution_count": null,
   "id": "european-cause",
   "metadata": {},
   "outputs": [],
   "source": [
    "Q 13. Using a for loop, write a short programme that prints the numbers 1 to 10 Then, using a while loop, create an identical programme that prints the numbers 1 to 10."
   ]
  },
  {
   "cell_type": "code",
   "execution_count": 3,
   "id": "continental-woman",
   "metadata": {},
   "outputs": [
    {
     "name": "stdout",
     "output_type": "stream",
     "text": [
      "0\n",
      "1\n",
      "2\n",
      "3\n",
      "4\n",
      "5\n",
      "6\n",
      "7\n",
      "8\n",
      "9\n",
      "10\n"
     ]
    }
   ],
   "source": [
    "for a in range(11):\n",
    "    print(a)"
   ]
  },
  {
   "cell_type": "code",
   "execution_count": 4,
   "id": "incoming-phoenix",
   "metadata": {},
   "outputs": [
    {
     "name": "stdout",
     "output_type": "stream",
     "text": [
      "0\n",
      "1\n",
      "2\n",
      "3\n",
      "4\n",
      "5\n",
      "6\n",
      "7\n",
      "8\n",
      "9\n",
      "10\n"
     ]
    }
   ],
   "source": [
    "a=c=0\n",
    "while a < 11 :\n",
    "    print(c)\n",
    "    c = c+1\n",
    "    a = a+1"
   ]
  },
  {
   "cell_type": "code",
   "execution_count": null,
   "id": "seventh-nightlife",
   "metadata": {},
   "outputs": [],
   "source": [
    "Q 14. If you had a bacon() function within a spam module, what would you call it after importing spam?"
   ]
  },
  {
   "cell_type": "code",
   "execution_count": null,
   "id": "understood-fashion",
   "metadata": {},
   "outputs": [],
   "source": [
    "spam.bacon()"
   ]
  }
 ],
 "metadata": {
  "kernelspec": {
   "display_name": "Python 3",
   "language": "python",
   "name": "python3"
  },
  "language_info": {
   "codemirror_mode": {
    "name": "ipython",
    "version": 3
   },
   "file_extension": ".py",
   "mimetype": "text/x-python",
   "name": "python",
   "nbconvert_exporter": "python",
   "pygments_lexer": "ipython3",
   "version": "3.7.1"
  }
 },
 "nbformat": 4,
 "nbformat_minor": 5
}

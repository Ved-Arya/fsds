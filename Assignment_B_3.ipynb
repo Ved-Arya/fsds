{
 "cells": [
  {
   "cell_type": "code",
   "execution_count": null,
   "id": "entertaining-guest",
   "metadata": {},
   "outputs": [],
   "source": [
    "Q 1. What are the benefits of including roles in the programmes?"
   ]
  },
  {
   "cell_type": "code",
   "execution_count": null,
   "id": "southwest-mason",
   "metadata": {},
   "outputs": [],
   "source": [
    "It is used in role type of development."
   ]
  },
  {
   "cell_type": "code",
   "execution_count": null,
   "id": "surprising-hughes",
   "metadata": {},
   "outputs": [],
   "source": [
    "Q 2. When does the code in a function run: when it is specified or when it is called?"
   ]
  },
  {
   "cell_type": "code",
   "execution_count": null,
   "id": "potential-hanging",
   "metadata": {},
   "outputs": [],
   "source": [
    "The code in a function run: when it is called."
   ]
  },
  {
   "cell_type": "code",
   "execution_count": null,
   "id": "agricultural-citizenship",
   "metadata": {},
   "outputs": [],
   "source": [
    "Q 3. What statement causes a feature to be created?"
   ]
  },
  {
   "cell_type": "code",
   "execution_count": null,
   "id": "cellular-carrier",
   "metadata": {},
   "outputs": [],
   "source": [
    "There is so many statements like:-\n",
    "    Expression\n",
    "    Assignment\n",
    "    assert\n",
    "    pass\n",
    "    del\n",
    "    return\n",
    "    yield\n",
    "    raise\n",
    "    break\n",
    "    continue\n",
    "    import\n",
    "    Future\n",
    "    global\n",
    "    nonlocal"
   ]
  },
  {
   "cell_type": "code",
   "execution_count": null,
   "id": "cubic-strap",
   "metadata": {},
   "outputs": [],
   "source": [
    "Q 4. What is the distinction between a function and a call to a function?"
   ]
  },
  {
   "cell_type": "code",
   "execution_count": null,
   "id": "amber-trust",
   "metadata": {},
   "outputs": [],
   "source": [
    "The function is just a code in inactive mode but on call it became active."
   ]
  },
  {
   "cell_type": "code",
   "execution_count": null,
   "id": "nominated-accent",
   "metadata": {},
   "outputs": [],
   "source": [
    "Q 5. In a Python application, how many global scopes are there? How many local scopes are there?"
   ]
  },
  {
   "cell_type": "code",
   "execution_count": null,
   "id": "iraqi-retirement",
   "metadata": {},
   "outputs": [],
   "source": [
    "The variable accessible outside the function or across the class is global scope and variable used under only the function is called local scope."
   ]
  },
  {
   "cell_type": "code",
   "execution_count": null,
   "id": "turkish-course",
   "metadata": {},
   "outputs": [],
   "source": [
    "Q 6. When a function call returns, what happens to variables in the local scope?"
   ]
  },
  {
   "cell_type": "code",
   "execution_count": null,
   "id": "urban-assessment",
   "metadata": {},
   "outputs": [],
   "source": [
    "The variable will retain its value."
   ]
  },
  {
   "cell_type": "code",
   "execution_count": null,
   "id": "exact-ballot",
   "metadata": {},
   "outputs": [],
   "source": [
    "Q 7. What is the concept of a return value? Is it possible to have a return value in an expression?"
   ]
  },
  {
   "cell_type": "code",
   "execution_count": null,
   "id": "finished-webster",
   "metadata": {},
   "outputs": [],
   "source": [
    "The concept of return value is to output the result from expression or any user defined function."
   ]
  },
  {
   "cell_type": "code",
   "execution_count": null,
   "id": "adjacent-brooks",
   "metadata": {},
   "outputs": [],
   "source": [
    "Q 8. What is the return value of a call to a function that does not have a return statement?"
   ]
  },
  {
   "cell_type": "code",
   "execution_count": null,
   "id": "victorian-cardiff",
   "metadata": {},
   "outputs": [],
   "source": [
    "The blank."
   ]
  },
  {
   "cell_type": "code",
   "execution_count": null,
   "id": "mighty-session",
   "metadata": {},
   "outputs": [],
   "source": [
    "Q 9. How do you make a function variable refer to the global variable?"
   ]
  },
  {
   "cell_type": "code",
   "execution_count": null,
   "id": "speaking-directory",
   "metadata": {},
   "outputs": [],
   "source": [
    "asd = \"my name\"\n",
    "def test():\n",
    "    asd1 = \"demo name\"\n",
    "    print(asd) #this asd refers to global variable.\n",
    "test()"
   ]
  },
  {
   "cell_type": "code",
   "execution_count": null,
   "id": "prime-token",
   "metadata": {},
   "outputs": [],
   "source": [
    "Q 10. What data form does None belong to?"
   ]
  },
  {
   "cell_type": "code",
   "execution_count": null,
   "id": "behavioral-peeing",
   "metadata": {},
   "outputs": [],
   "source": [
    "NUll"
   ]
  },
  {
   "cell_type": "code",
   "execution_count": null,
   "id": "dated-signature",
   "metadata": {},
   "outputs": [],
   "source": [
    "Q 11. What does the sentence import areallyourpetsnamederic do?"
   ]
  },
  {
   "cell_type": "code",
   "execution_count": null,
   "id": "reverse-evaluation",
   "metadata": {},
   "outputs": [],
   "source": [
    "This sentance actually meant to a request to library block of 'areallyourpetsnamederic' to allow me the use of classes and functions definded under it."
   ]
  },
  {
   "cell_type": "code",
   "execution_count": null,
   "id": "upper-invite",
   "metadata": {},
   "outputs": [],
   "source": [
    "Q 12. If you had a bacon() feature in a spam module, what would you call it after importing spam?"
   ]
  },
  {
   "cell_type": "code",
   "execution_count": null,
   "id": "norman-applicant",
   "metadata": {},
   "outputs": [],
   "source": [
    "spam.bacon()"
   ]
  },
  {
   "cell_type": "code",
   "execution_count": null,
   "id": "healthy-carter",
   "metadata": {},
   "outputs": [],
   "source": [
    "Q 13. What can you do to save a programme from crashing if it encounters an error?"
   ]
  },
  {
   "cell_type": "code",
   "execution_count": null,
   "id": "productive-single",
   "metadata": {},
   "outputs": [],
   "source": [
    "First i reopen the file in lightest editor then copy all content then save it separate then will try to fix the error, if it fixed then ok and if it will not then i will \n",
    "continue with previously saved file and rewrite the rest of my code (as visual studio code continiously saves the file automatically so i will get most recent saved one)."
   ]
  },
  {
   "cell_type": "code",
   "execution_count": null,
   "id": "enabling-assembly",
   "metadata": {},
   "outputs": [],
   "source": [
    "Q 14. What is the purpose of the try clause? What is the purpose of the except clause?"
   ]
  },
  {
   "cell_type": "code",
   "execution_count": null,
   "id": "russian-struggle",
   "metadata": {},
   "outputs": [],
   "source": [
    "The try covers the execution part which may cause exception and except covers the block of code that executes if try catches any exception."
   ]
  }
 ],
 "metadata": {
  "kernelspec": {
   "display_name": "Python 3",
   "language": "python",
   "name": "python3"
  },
  "language_info": {
   "codemirror_mode": {
    "name": "ipython",
    "version": 3
   },
   "file_extension": ".py",
   "mimetype": "text/x-python",
   "name": "python",
   "nbconvert_exporter": "python",
   "pygments_lexer": "ipython3",
   "version": "3.7.1"
  }
 },
 "nbformat": 4,
 "nbformat_minor": 5
}

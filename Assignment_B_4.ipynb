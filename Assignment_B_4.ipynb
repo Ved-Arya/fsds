{
 "cells": [
  {
   "cell_type": "code",
   "execution_count": null,
   "id": "level-shannon",
   "metadata": {},
   "outputs": [],
   "source": [
    "Q 1. What exactly is []?"
   ]
  },
  {
   "cell_type": "markdown",
   "id": "invalid-minutes",
   "metadata": {},
   "source": [
    "Symbol to represent list, a symbol to make any variable as list, a symbol to cover list type of data items."
   ]
  },
  {
   "cell_type": "code",
   "execution_count": null,
   "id": "retained-patient",
   "metadata": {},
   "outputs": [],
   "source": [
    "Q 2. In a list of values stored in a variable called spam, how would you assign the value 'hello' as the\n",
    "third value? (Assume [2, 4, 6, 8, 10] are in spam.)"
   ]
  },
  {
   "cell_type": "code",
   "execution_count": null,
   "id": "outstanding-christopher",
   "metadata": {},
   "outputs": [],
   "source": [
    "using insert() function"
   ]
  },
  {
   "cell_type": "code",
   "execution_count": null,
   "id": "broke-casino",
   "metadata": {},
   "outputs": [],
   "source": [
    "Let's pretend the spam includes the list ['a','b','c','d'] for the next three queries.\n",
    "Q 3. What is the value of spam[int(int('3' * 2) / 11)]?"
   ]
  },
  {
   "cell_type": "code",
   "execution_count": null,
   "id": "dynamic-dallas",
   "metadata": {},
   "outputs": [],
   "source": [
    "d"
   ]
  },
  {
   "cell_type": "code",
   "execution_count": null,
   "id": "lyric-february",
   "metadata": {},
   "outputs": [],
   "source": [
    "Q 4. What is the value of spam[-1]?"
   ]
  },
  {
   "cell_type": "code",
   "execution_count": null,
   "id": "solved-bunch",
   "metadata": {},
   "outputs": [],
   "source": [
    "d"
   ]
  },
  {
   "cell_type": "code",
   "execution_count": null,
   "id": "greek-relief",
   "metadata": {},
   "outputs": [],
   "source": [
    "Q 5. What is the value of spam[:2]?"
   ]
  },
  {
   "cell_type": "code",
   "execution_count": null,
   "id": "cleared-railway",
   "metadata": {},
   "outputs": [],
   "source": [
    "['a','b']"
   ]
  },
  {
   "cell_type": "code",
   "execution_count": null,
   "id": "retired-emerald",
   "metadata": {},
   "outputs": [],
   "source": [
    "Let's pretend bacon has the list [3.14, 'cat', 11, 'cat', True] for the next three questions.\n",
    "Q 6. What is the value of bacon.index('cat')?"
   ]
  },
  {
   "cell_type": "code",
   "execution_count": null,
   "id": "appreciated-flush",
   "metadata": {},
   "outputs": [],
   "source": [
    "1"
   ]
  },
  {
   "cell_type": "code",
   "execution_count": null,
   "id": "accredited-florist",
   "metadata": {},
   "outputs": [],
   "source": [
    "Q 7. How does bacon.append(99) change the look of the list value in bacon?"
   ]
  },
  {
   "cell_type": "code",
   "execution_count": null,
   "id": "binding-martial",
   "metadata": {},
   "outputs": [],
   "source": [
    "[3.14, 'cat', 11, 'cat', True, 99]"
   ]
  },
  {
   "cell_type": "code",
   "execution_count": null,
   "id": "angry-emerald",
   "metadata": {},
   "outputs": [],
   "source": [
    "Q 9. What are the list concatenation and list replication operators?"
   ]
  },
  {
   "cell_type": "code",
   "execution_count": null,
   "id": "armed-entertainment",
   "metadata": {},
   "outputs": [],
   "source": [
    "To attach two list data is concatnation using +, list replication is to multiply the data using *"
   ]
  },
  {
   "cell_type": "code",
   "execution_count": null,
   "id": "middle-consideration",
   "metadata": {},
   "outputs": [],
   "source": [
    "Q 10. What is difference between the list methods append() and insert()?"
   ]
  },
  {
   "cell_type": "code",
   "execution_count": null,
   "id": "political-stationery",
   "metadata": {},
   "outputs": [],
   "source": [
    "append adds in last of list and insert adds the data on user defined position."
   ]
  },
  {
   "cell_type": "code",
   "execution_count": null,
   "id": "dynamic-message",
   "metadata": {},
   "outputs": [],
   "source": [
    "Q 11. What are the two methods for removing items from a list?"
   ]
  },
  {
   "cell_type": "code",
   "execution_count": null,
   "id": "catholic-adams",
   "metadata": {},
   "outputs": [],
   "source": [
    "clear,pop"
   ]
  },
  {
   "cell_type": "code",
   "execution_count": null,
   "id": "double-manner",
   "metadata": {},
   "outputs": [],
   "source": [
    "Q 12. Describe how list values and string values are identical."
   ]
  },
  {
   "cell_type": "code",
   "execution_count": null,
   "id": "genetic-wisconsin",
   "metadata": {},
   "outputs": [],
   "source": [
    "int,float,char data can be store in list, int,float,char data can be store as string."
   ]
  },
  {
   "cell_type": "code",
   "execution_count": null,
   "id": "about-observation",
   "metadata": {},
   "outputs": [],
   "source": [
    "Q 13. What's the difference between tuples and lists?"
   ]
  },
  {
   "cell_type": "code",
   "execution_count": null,
   "id": "minimal-symphony",
   "metadata": {},
   "outputs": [],
   "source": [
    "tuples are non mutable type of storage but list is not,\n",
    "tuple has only read type operation but list has both, read and write,\n",
    "tuple has only count() and index() functions but list has many."
   ]
  },
  {
   "cell_type": "code",
   "execution_count": null,
   "id": "caroline-fountain",
   "metadata": {},
   "outputs": [],
   "source": [
    "Q 14. How do you type a tuple value that only contains the integer 42?"
   ]
  },
  {
   "cell_type": "code",
   "execution_count": null,
   "id": "crude-liberty",
   "metadata": {},
   "outputs": [],
   "source": [
    "demo = (42)"
   ]
  },
  {
   "cell_type": "code",
   "execution_count": null,
   "id": "final-military",
   "metadata": {},
   "outputs": [],
   "source": [
    "Q 15. How do you get a list value's tuple form? How do you get a tuple value's list form?"
   ]
  },
  {
   "cell_type": "code",
   "execution_count": null,
   "id": "infectious-native",
   "metadata": {},
   "outputs": [],
   "source": [
    "using list() and tuple()"
   ]
  },
  {
   "cell_type": "code",
   "execution_count": 1,
   "id": "interstate-dancing",
   "metadata": {},
   "outputs": [
    {
     "name": "stdout",
     "output_type": "stream",
     "text": [
      "('one', 'two', 'three', 'four', 'five')\n"
     ]
    },
    {
     "data": {
      "text/plain": [
       "['one', 'two', 'three', 'four', 'five']"
      ]
     },
     "execution_count": 1,
     "metadata": {},
     "output_type": "execute_result"
    }
   ],
   "source": [
    "listdata = ['one','two','three','four','five']\n",
    "tupledata = tuple(listdata)\n",
    "print(tupledata)\n",
    "listdta = list(tupledata)\n",
    "listdta"
   ]
  },
  {
   "cell_type": "code",
   "execution_count": null,
   "id": "random-ethernet",
   "metadata": {},
   "outputs": [],
   "source": [
    "Q 16. Variables that contain list values are not necessarily lists themselves. Instead, what do they contain?"
   ]
  },
  {
   "cell_type": "code",
   "execution_count": null,
   "id": "stunning-cover",
   "metadata": {},
   "outputs": [],
   "source": [
    "any type of data may contain under the list data structure."
   ]
  },
  {
   "cell_type": "code",
   "execution_count": null,
   "id": "automated-satellite",
   "metadata": {},
   "outputs": [],
   "source": [
    "Q 17. How do you distinguish between copy.copy() and copy.deepcopy()?"
   ]
  },
  {
   "cell_type": "code",
   "execution_count": null,
   "id": "french-theme",
   "metadata": {},
   "outputs": [],
   "source": [
    "in copy, the variable comes from same place, even new variable is created using copy() so if alertaration occur then it affects all copied variable so some time it is harmfull, \n",
    "in deepy copy the variable is created on truly new place of storage so if alertaration occur then it does not affects on copied variable"
   ]
  }
 ],
 "metadata": {
  "kernelspec": {
   "display_name": "Python 3",
   "language": "python",
   "name": "python3"
  },
  "language_info": {
   "codemirror_mode": {
    "name": "ipython",
    "version": 3
   },
   "file_extension": ".py",
   "mimetype": "text/x-python",
   "name": "python",
   "nbconvert_exporter": "python",
   "pygments_lexer": "ipython3",
   "version": "3.7.1"
  }
 },
 "nbformat": 4,
 "nbformat_minor": 5
}
